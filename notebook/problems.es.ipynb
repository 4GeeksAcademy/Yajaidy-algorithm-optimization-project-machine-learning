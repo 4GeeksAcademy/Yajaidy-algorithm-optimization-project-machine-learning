{
 "cells": [
  {
   "attachments": {},
   "cell_type": "markdown",
   "id": "27b09e13",
   "metadata": {},
   "source": [
    "# Problemas de optimización de algoritmos"
   ]
  },
  {
   "attachments": {},
   "cell_type": "markdown",
   "id": "ed05e9bf",
   "metadata": {},
   "source": [
    "## Ejercicio 1\n",
    "### Optimización de código para procesamiento de texto\n",
    "\n",
    "Se te ha entregado un código de procesamiento de texto que realiza las siguientes operaciones:\n",
    "\n",
    "1. Convierte todo el texto a minúsculas.\n",
    "2. Elimina los signos de puntuación.\n",
    "3. Cuenta la frecuencia de cada palabra.\n",
    "4. Muestra las 5 palabras mas comunes.\n",
    "\n",
    "El código funciona, pero es ineficiente y puede optimizarse. Tu tarea es identificar las áreas que pueden ser mejoradas y reescribir esas partes para hacer el código mas eficiente y legible.\n"
   ]
  },
  {
   "cell_type": "code",
   "execution_count": 1,
   "id": "8467465b",
   "metadata": {},
   "outputs": [
    {
     "name": "stdout",
     "output_type": "stream",
     "text": [
      "'the': 5 times\n",
      "'of': 3 times\n",
      "'in': 2 times\n",
      "'a': 2 times\n",
      "'she': 2 times\n"
     ]
    }
   ],
   "source": [
    "import string\n",
    "\n",
    "def process_text(text):\n",
    "    # Texto a minuscula\n",
    "    text = text.lower()\n",
    "\n",
    "    # Eliminación de puntuaciones\n",
    "    for p in string.punctuation:\n",
    "        text = text.replace(p, \"\")\n",
    "\n",
    "    # Split text into words\n",
    "    words = text.split()\n",
    "\n",
    "    # Conteo de frecuencias\n",
    "    frequencies = {}\n",
    "    for w in words:\n",
    "        if w in frequencies:\n",
    "            frequencies[w] += 1\n",
    "        else:\n",
    "            frequencies[w] = 1\n",
    "\n",
    "    sorted_frequencies = sorted(frequencies.items(), key = lambda x: x[1], reverse = True)\n",
    "\n",
    "    # Obtener las 5 palabras más comunes\n",
    "    top_5 = sorted_frequencies[:5]\n",
    "    \n",
    "    for w, frequency in top_5:\n",
    "        print(f\"'{w}': {frequency} times\")\n",
    "\n",
    "text = \"\"\"\n",
    "    In the heart of the city, Emily discovered a quaint little café, hidden away from the bustling streets. \n",
    "    The aroma of freshly baked pastries wafted through the air, drawing in passersby. As she sipped on her latte, \n",
    "    she noticed an old bookshelf filled with classics, creating a cozy atmosphere that made her lose track of time.\n",
    "\"\"\"\n",
    "process_text(text)"
   ]
  },
  {
   "cell_type": "markdown",
   "id": "29040779",
   "metadata": {},
   "source": [
    "Puntos a optimizar:\n",
    "\n",
    "1. **Eliminar los signos de puntuación**: Usar `replace`  en un ciclo puede ser ineficiente, especialmente con textos largos. Busca una formas eficiente de eliminar los signos de puntuación.\n",
    "2. **Contador de frecuencia**: El código verifica la existencia de cada palabra en el diccionario y luego actualiza su cuenta. Esto puede hacerse mas eficientemente con ciertas estructuras de datos en Python.\n",
    "3. **Ordenar y seleccionar:** Considera si hay una forma mas directa o efectiva de obtener las 5 palabras mas frecuentes sin ordenar todas las palabras.\n",
    "4. **Modularidad**: Divide el código en funciones mas pequeñas para que cada una puede realizar una tarea específica. Esto no solo optimizará el desempeño, sino también hará el código mas legible y mantenible."
   ]
  },
  {
   "cell_type": "code",
   "execution_count": 1,
   "id": "57cd6641",
   "metadata": {},
   "outputs": [
    {
     "name": "stdout",
     "output_type": "stream",
     "text": [
      "\"the\" se repite 5 veces\n",
      "\"of\" se repite 3 veces\n",
      "\"in\" se repite 2 veces\n",
      "\"a\" se repite 2 veces\n",
      "\"she\" se repite 2 veces\n"
     ]
    }
   ],
   "source": [
    "# TODO\n",
    "import string \n",
    "from collections import Counter\n",
    "\n",
    "\n",
    "'''DEFINIR FUNCIONES'''\n",
    "\n",
    "\n",
    "'''Eliminar signos de puntuación'''\n",
    "def sin_signos (texto):\n",
    "    return texto.translate(str.maketrans(\"¡¿\",\"  \", string.punctuation))\n",
    "\n",
    "'''Dividir el texto en palabras'''\n",
    "def dividir_palabras (texto):\n",
    "    return texto.split()\n",
    "\n",
    "'''Contador de Palabras'''\n",
    "def contador_palabras (lista_palabras):\n",
    "    return Counter(lista_palabras)\n",
    "\n",
    "'''5 palabras frecuentes'''\n",
    "def palabras_frecuentes (contador, c = 5):\n",
    "    return contador.most_common(c)\n",
    "\n",
    "\n",
    "'''APLICACION DE FUNCIONES'''\n",
    "\n",
    "\n",
    "def process_text(texto):\n",
    "    # Texto a minuscula\n",
    "    texto = texto.lower()\n",
    "\n",
    "    #Eliminar signos de puntuación\n",
    "    texto = sin_signos(texto)\n",
    "\n",
    "    #Dividir el texto en palabras\n",
    "    lista_palabras1 = dividir_palabras(texto)\n",
    "\n",
    "    #Contador de Palabras\n",
    "    cuenta = contador_palabras(lista_palabras1)\n",
    "\n",
    "    #Palabras frecuentes\n",
    "    \n",
    "    top_5 = palabras_frecuentes(cuenta)\n",
    "\n",
    "    for p, frecuencia in top_5:\n",
    "        print(f'\"{p}\" se repite {frecuencia} veces')\n",
    "\n",
    "\n",
    "\n",
    "texto = \"\"\"\n",
    "    In the heart of the city, Emily discovered a quaint little café, hidden away from the bustling streets. \n",
    "    The aroma of freshly baked pastries wafted through the air, drawing in passersby. As she sipped on her latte, \n",
    "    she noticed an old bookshelf filled with classics, creating a cozy atmosphere that made her lose track of time. \n",
    "\"\"\"\n",
    "\n",
    "process_text(texto)"
   ]
  },
  {
   "attachments": {},
   "cell_type": "markdown",
   "id": "011996bc",
   "metadata": {},
   "source": [
    "## Ejercicio 2\n",
    "### Optimización de código para procesamiento de listas\n",
    "\n",
    "Se te ha dado el siguiente código que realiza operaciones en una lista de números para:\n",
    "\n",
    "1. Filtrar los números pares.\n",
    "2. Duplicar cada número.\n",
    "3. Sumar todos los números.\n",
    "4. Verificar si el resultado es un número primo.\n",
    "\n",
    "El código entregado logra los objetivos, pero puede ser ineficiente. Tu tarea es identificar y mejorar las partes de ese código para mejorar su eficiencia."
   ]
  },
  {
   "cell_type": "code",
   "execution_count": 3,
   "id": "783d03a0",
   "metadata": {},
   "outputs": [
    {
     "name": "stdout",
     "output_type": "stream",
     "text": [
      "Result: 60, ¿Prime? No\n"
     ]
    }
   ],
   "source": [
    "import math\n",
    "\n",
    "def is_prime(n):\n",
    "    if n <= 1:\n",
    "        return False\n",
    "    for i in range(2, int(math.sqrt(n)) + 1):\n",
    "        if n % i == 0:\n",
    "            return False\n",
    "    return True\n",
    "\n",
    "def process_list(list_):\n",
    "    filtered_list = []\n",
    "    for num in list_:\n",
    "        if num % 2 == 0:\n",
    "            filtered_list.append(num)\n",
    "    \n",
    "    duplicate_list = []\n",
    "    for num in filtered_list:\n",
    "        duplicate_list.append(num * 2)\n",
    "        \n",
    "    sum = 0\n",
    "    for num in duplicate_list:\n",
    "        sum += num\n",
    "\n",
    "    prime = is_prime(sum)\n",
    "    \n",
    "    return sum, prime\n",
    "\n",
    "list_ = [1, 2, 3, 4, 5, 6, 7, 8, 9, 10]\n",
    "result, result_prime = process_list(list_)\n",
    "print(f\"Result: {result}, ¿Prime? {'Yes' if result_prime else 'No'}\")"
   ]
  },
  {
   "cell_type": "markdown",
   "id": "128d564e",
   "metadata": {},
   "source": [
    "Puntos a optimizar:\n",
    "\n",
    "1. **Filtrar las números**: El código recorre la lista original para filtrar los números pares. Considera una forma mas eficiente de filtrar la lista.\n",
    "2. **Duplicación**: La lista es atravesada varias veces. ¿Hay alguna manera de hacer esto mas eficientemente?\n",
    "3. **Suma**: Los números en la lista se suman a traves de un bucle. Python trae incluidas unas funciones que pueden optimizar esto.\n",
    "4. **Función `is_prime`**: Aunque ésta función es relativamente eficiente, investiga si hay maneras de hacerla aun más rápida.\n",
    "5. **Modularidad**: Considera dividir el código en funciones más pequeñas, cada una enfocada en una tarea específica."
   ]
  },
  {
   "cell_type": "code",
   "execution_count": 5,
   "id": "f40e35d6",
   "metadata": {},
   "outputs": [
    {
     "name": "stdout",
     "output_type": "stream",
     "text": [
      "La suma es igual = 60 \n",
      "El numero es primo ? No\n"
     ]
    }
   ],
   "source": [
    "# TODO\n",
    "\n",
    "list_ = [1, 2, 3, 4, 5, 6, 7, 8, 9, 10]\n",
    "\n",
    "\n",
    "'''DEFINIR FUNCIONES'''\n",
    "\n",
    "def primo (n):\n",
    "\n",
    "    if n <= 1:\n",
    "        return False\n",
    "    \n",
    "    if n <= 3:\n",
    "        return True\n",
    "    \n",
    "    if (n % 2 == 0) or (n % 3 == 0):\n",
    "        return False\n",
    "    \n",
    "    i = 5\n",
    "    while ((i * i) <= n):\n",
    "        if (n % i == 0) or (n % (i + 2) == 0):\n",
    "            return False\n",
    "        i += 6\n",
    "        return True\n",
    "\n",
    "#Filtrar y duplicar numeros pares\n",
    "\n",
    "def  fil_dupl(list_):\n",
    "    return [n*2 for n in list_ if n % 2 == 0]\n",
    "\n",
    "\n",
    "def process_list(list_):\n",
    "\n",
    "    list_fil_dupl = fil_dupl(list_)\n",
    "\n",
    "    #Suma de la lista\n",
    "    suma_list = sum(list_fil_dupl)\n",
    "    num_primo = primo(suma_list)\n",
    "\n",
    "    return suma_list, num_primo\n",
    "\n",
    "suma_duplicados, numero_primo = process_list(list_)\n",
    "print(f'La suma es igual = {suma_duplicados} \\nEl numero es primo ? {\"Yes\" if numero_primo else \"No\"}' )\n",
    "    "
   ]
  },
  {
   "attachments": {},
   "cell_type": "markdown",
   "id": "1af70806",
   "metadata": {},
   "source": [
    "Ambos ejercicios  ayudarán a mejorar tu habilidad de optimizar el desempeño del código y te darán un mejor entendimiento de como las diferentes estructuras de datos y técnicas de programación pueden afectar la eficiencia de tu código."
   ]
  }
 ],
 "metadata": {
  "kernelspec": {
   "display_name": "Python 3",
   "language": "python",
   "name": "python3"
  },
  "language_info": {
   "codemirror_mode": {
    "name": "ipython",
    "version": 3
   },
   "file_extension": ".py",
   "mimetype": "text/x-python",
   "name": "python",
   "nbconvert_exporter": "python",
   "pygments_lexer": "ipython3",
   "version": "3.11.4"
  }
 },
 "nbformat": 4,
 "nbformat_minor": 5
}
